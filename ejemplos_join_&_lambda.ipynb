{
  "nbformat": 4,
  "nbformat_minor": 0,
  "metadata": {
    "colab": {
      "provenance": [],
      "collapsed_sections": [],
      "authorship_tag": "ABX9TyN4SAO9Qtieiw8WHEw7tRpd",
      "include_colab_link": true
    },
    "kernelspec": {
      "name": "python3",
      "display_name": "Python 3"
    },
    "language_info": {
      "name": "python"
    }
  },
  "cells": [
    {
      "cell_type": "markdown",
      "metadata": {
        "id": "view-in-github",
        "colab_type": "text"
      },
      "source": [
        "<a href=\"https://colab.research.google.com/github/Alanontiveros/PySpark/blob/main/ejemplos_join_%26_lambda.ipynb\" target=\"_parent\"><img src=\"https://colab.research.google.com/assets/colab-badge.svg\" alt=\"Open In Colab\"/></a>"
      ]
    },
    {
      "cell_type": "code",
      "source": [
        "# install java\n",
        "!apt-get install openjdk-8-jdk-headless -qq > /dev/null"
      ],
      "metadata": {
        "id": "3oGPwgYF6_wo"
      },
      "execution_count": 66,
      "outputs": []
    },
    {
      "cell_type": "code",
      "source": [
        "# install spark (change the version number if needed)\n",
        "!wget -q https://archive.apache.org/dist/spark/spark-3.0.0/spark-3.0.0-bin-hadoop3.2.tgz  "
      ],
      "metadata": {
        "id": "yPPe2FOY7Bjn"
      },
      "execution_count": 67,
      "outputs": []
    },
    {
      "cell_type": "code",
      "source": [
        "# unzip the spark file to the current folder\n",
        "!tar xf spark-3.0.0-bin-hadoop3.2.tgz"
      ],
      "metadata": {
        "id": "6Pl7ly9z7DQy"
      },
      "execution_count": 68,
      "outputs": []
    },
    {
      "cell_type": "code",
      "source": [
        "# set your spark folder to your system path environment. \n",
        "import os\n",
        "os.environ[\"JAVA_HOME\"] = \"/usr/lib/jvm/java-8-openjdk-amd64\"\n",
        "os.environ[\"SPARK_HOME\"] = \"/content/spark-3.0.0-bin-hadoop3.2\""
      ],
      "metadata": {
        "id": "2c0s47nW7FLv"
      },
      "execution_count": 69,
      "outputs": []
    },
    {
      "cell_type": "code",
      "source": [
        "# install findspark using pip\n",
        "!pip install -q findspark"
      ],
      "metadata": {
        "id": "CfCLhMdI7HLq"
      },
      "execution_count": 70,
      "outputs": []
    },
    {
      "cell_type": "code",
      "source": [
        "import findspark\n",
        "findspark.init()\n",
        "from pyspark.sql import SparkSession\n",
        "spark = SparkSession.builder.master(\"local[*]\").getOrCreate()"
      ],
      "metadata": {
        "id": "GaN-OGj27JVI"
      },
      "execution_count": 71,
      "outputs": []
    },
    {
      "cell_type": "code",
      "source": [
        "from pyspark.sql import SparkSession\n",
        "from pyspark.sql import SQLContext\n",
        "\n",
        "spark = SparkSession.builder.appName(\"Test_spark\").master(\"local[*]\").getOrCreate()\n",
        "sqlCtx = SQLContext(sparkContext=spark.sparkContext, sparkSession=spark)\n",
        "spark"
      ],
      "metadata": {
        "colab": {
          "base_uri": "https://localhost:8080/",
          "height": 219
        },
        "id": "iI7ahf_67L1D",
        "outputId": "6224d94b-ff29-42a5-9387-214a2fdb82f4"
      },
      "execution_count": 72,
      "outputs": [
        {
          "output_type": "execute_result",
          "data": {
            "text/plain": [
              "<pyspark.sql.session.SparkSession at 0x7f12b39eb090>"
            ],
            "text/html": [
              "\n",
              "            <div>\n",
              "                <p><b>SparkSession - in-memory</b></p>\n",
              "                \n",
              "        <div>\n",
              "            <p><b>SparkContext</b></p>\n",
              "\n",
              "            <p><a href=\"http://b71397e666bb:4040\">Spark UI</a></p>\n",
              "\n",
              "            <dl>\n",
              "              <dt>Version</dt>\n",
              "                <dd><code>v3.0.0</code></dd>\n",
              "              <dt>Master</dt>\n",
              "                <dd><code>local[*]</code></dd>\n",
              "              <dt>AppName</dt>\n",
              "                <dd><code>pyspark-shell</code></dd>\n",
              "            </dl>\n",
              "        </div>\n",
              "        \n",
              "            </div>\n",
              "        "
            ]
          },
          "metadata": {},
          "execution_count": 72
        }
      ]
    },
    {
      "cell_type": "markdown",
      "source": [
        "#Primer dataset"
      ],
      "metadata": {
        "id": "bAIvHy7h6LLy"
      }
    },
    {
      "cell_type": "code",
      "source": [
        "# list  of employee data\n",
        "data = [[\"1\", \"sravan\", \"company 1\"],\n",
        "        [\"2\", \"ojaswi\", \"company 1\"], \n",
        "        [\"3\", \"rohith\", \"company 2\"],\n",
        "        [\"4\", \"sridevi\", \"company 1\"], \n",
        "        [\"5\", \"bobby\", \"company 1\"]]"
      ],
      "metadata": {
        "id": "Jxae-enc6Bja"
      },
      "execution_count": 73,
      "outputs": []
    },
    {
      "cell_type": "code",
      "source": [
        "# specify column names\n",
        "columns = ['ID', 'NAME', 'Company']"
      ],
      "metadata": {
        "id": "4EqVykLH6FyQ"
      },
      "execution_count": 74,
      "outputs": []
    },
    {
      "cell_type": "code",
      "source": [
        "# creating a dataframe from the lists of data\n",
        "dataframe = spark.createDataFrame(data, columns)\n",
        "  \n",
        "dataframe.show()"
      ],
      "metadata": {
        "colab": {
          "base_uri": "https://localhost:8080/"
        },
        "id": "iGFO3jig6IBJ",
        "outputId": "b49ca0e0-b82c-4165-d1e0-cc493dacf56d"
      },
      "execution_count": 75,
      "outputs": [
        {
          "output_type": "stream",
          "name": "stdout",
          "text": [
            "+---+-------+---------+\n",
            "| ID|   NAME|  Company|\n",
            "+---+-------+---------+\n",
            "|  1| sravan|company 1|\n",
            "|  2| ojaswi|company 1|\n",
            "|  3| rohith|company 2|\n",
            "|  4|sridevi|company 1|\n",
            "|  5|  bobby|company 1|\n",
            "+---+-------+---------+\n",
            "\n"
          ]
        }
      ]
    },
    {
      "cell_type": "markdown",
      "source": [
        "#Segundo dataset"
      ],
      "metadata": {
        "id": "Tq6cvsY56Ucv"
      }
    },
    {
      "cell_type": "code",
      "source": [
        "# list of employee data\n",
        "data1 = [[\"1\", \"45000\", \"IT\"],\n",
        "\t\t[\"2\", \"145000\", \"Manager\"],\n",
        "\t\t[\"6\", \"45000\", \"HR\"],\n",
        "\t\t[\"5\", \"34000\", \"Sales\"]]"
      ],
      "metadata": {
        "id": "cx2w5pf26d-K"
      },
      "execution_count": 76,
      "outputs": []
    },
    {
      "cell_type": "code",
      "source": [
        "# specify column names\n",
        "columns = ['ID', 'salary', 'department']"
      ],
      "metadata": {
        "id": "YhMT1rJs6fka"
      },
      "execution_count": 77,
      "outputs": []
    },
    {
      "cell_type": "code",
      "source": [
        "# creating a dataframe from the lists of data\n",
        "dataframe1 = spark.createDataFrame(data1, columns)\n",
        "\n",
        "dataframe1.show()"
      ],
      "metadata": {
        "colab": {
          "base_uri": "https://localhost:8080/"
        },
        "id": "O9jL3Qxa6g9u",
        "outputId": "cc7d3fc1-d5ce-46d3-9439-62e66cca6bd3"
      },
      "execution_count": 78,
      "outputs": [
        {
          "output_type": "stream",
          "name": "stdout",
          "text": [
            "+---+------+----------+\n",
            "| ID|salary|department|\n",
            "+---+------+----------+\n",
            "|  1| 45000|        IT|\n",
            "|  2|145000|   Manager|\n",
            "|  6| 45000|        HR|\n",
            "|  5| 34000|     Sales|\n",
            "+---+------+----------+\n",
            "\n"
          ]
        }
      ]
    },
    {
      "cell_type": "markdown",
      "source": [
        "###Sintaxis : dataframe1.join(dataframe2,dataframe1.column_name == dataframe2.column_name,”inner”)"
      ],
      "metadata": {
        "id": "9PvGktVQ7-ml"
      }
    },
    {
      "cell_type": "code",
      "source": [
        "# inner join \n",
        "dataframe.join(dataframe1,dataframe.ID == dataframe1.ID,\"inner\").orderBy(dataframe.ID).show()"
      ],
      "metadata": {
        "colab": {
          "base_uri": "https://localhost:8080/"
        },
        "id": "_DDhumXv8taE",
        "outputId": "3fa43435-6929-440c-a186-17c1b90ffa56"
      },
      "execution_count": 79,
      "outputs": [
        {
          "output_type": "stream",
          "name": "stdout",
          "text": [
            "+---+------+---------+---+------+----------+\n",
            "| ID|  NAME|  Company| ID|salary|department|\n",
            "+---+------+---------+---+------+----------+\n",
            "|  1|sravan|company 1|  1| 45000|        IT|\n",
            "|  2|ojaswi|company 1|  2|145000|   Manager|\n",
            "|  5| bobby|company 1|  5| 34000|     Sales|\n",
            "+---+------+---------+---+------+----------+\n",
            "\n"
          ]
        }
      ]
    },
    {
      "cell_type": "markdown",
      "source": [
        "#Sintaxis :\n",
        "\n",
        "###outer : dataframe1.join(dataframe2,dataframe1.column_name == dataframe2.column_name,”outer”)\n",
        "###full : dataframe1.join(dataframe2,dataframe1.column_name == dataframe2.column_name,”full”)\n",
        "###fullouter : dataframe1.join(dataframe2,dataframe1.column_name == dataframe2.column_name,”fullouter”)"
      ],
      "metadata": {
        "id": "hgw03WSW9m2_"
      }
    },
    {
      "cell_type": "code",
      "source": [
        "# full outer\n",
        "\n",
        "dataframe.join(dataframe1,dataframe.ID == dataframe1.ID,\"outer\").orderBy(dataframe.ID).show()"
      ],
      "metadata": {
        "colab": {
          "base_uri": "https://localhost:8080/"
        },
        "id": "qS5StJ1r-Q6g",
        "outputId": "1dd5520a-4001-4e00-baca-95f3cddbffb7"
      },
      "execution_count": 80,
      "outputs": [
        {
          "output_type": "stream",
          "name": "stdout",
          "text": [
            "+----+-------+---------+----+------+----------+\n",
            "|  ID|   NAME|  Company|  ID|salary|department|\n",
            "+----+-------+---------+----+------+----------+\n",
            "|null|   null|     null|   6| 45000|        HR|\n",
            "|   1| sravan|company 1|   1| 45000|        IT|\n",
            "|   2| ojaswi|company 1|   2|145000|   Manager|\n",
            "|   3| rohith|company 2|null|  null|      null|\n",
            "|   4|sridevi|company 1|null|  null|      null|\n",
            "|   5|  bobby|company 1|   5| 34000|     Sales|\n",
            "+----+-------+---------+----+------+----------+\n",
            "\n"
          ]
        }
      ]
    },
    {
      "cell_type": "code",
      "source": [
        "dataframe.join(dataframe1,dataframe.ID == dataframe1.ID,\"full\").orderBy(dataframe.ID).show()"
      ],
      "metadata": {
        "colab": {
          "base_uri": "https://localhost:8080/"
        },
        "id": "Mjpitqxe-iKW",
        "outputId": "0b6cc4e2-aea9-4a08-a095-ba086b3697b8"
      },
      "execution_count": 81,
      "outputs": [
        {
          "output_type": "stream",
          "name": "stdout",
          "text": [
            "+----+-------+---------+----+------+----------+\n",
            "|  ID|   NAME|  Company|  ID|salary|department|\n",
            "+----+-------+---------+----+------+----------+\n",
            "|null|   null|     null|   6| 45000|        HR|\n",
            "|   1| sravan|company 1|   1| 45000|        IT|\n",
            "|   2| ojaswi|company 1|   2|145000|   Manager|\n",
            "|   3| rohith|company 2|null|  null|      null|\n",
            "|   4|sridevi|company 1|null|  null|      null|\n",
            "|   5|  bobby|company 1|   5| 34000|     Sales|\n",
            "+----+-------+---------+----+------+----------+\n",
            "\n"
          ]
        }
      ]
    },
    {
      "cell_type": "code",
      "source": [
        "dataframe.join(dataframe1,dataframe.ID == dataframe1.ID,\"fullouter\").orderBy(dataframe.ID).show()"
      ],
      "metadata": {
        "colab": {
          "base_uri": "https://localhost:8080/"
        },
        "id": "3Dj1wta7-hl4",
        "outputId": "89c60f00-dc3c-4e02-feb9-72b8c3a06cf1"
      },
      "execution_count": 82,
      "outputs": [
        {
          "output_type": "stream",
          "name": "stdout",
          "text": [
            "+----+-------+---------+----+------+----------+\n",
            "|  ID|   NAME|  Company|  ID|salary|department|\n",
            "+----+-------+---------+----+------+----------+\n",
            "|null|   null|     null|   6| 45000|        HR|\n",
            "|   1| sravan|company 1|   1| 45000|        IT|\n",
            "|   2| ojaswi|company 1|   2|145000|   Manager|\n",
            "|   3| rohith|company 2|null|  null|      null|\n",
            "|   4|sridevi|company 1|null|  null|      null|\n",
            "|   5|  bobby|company 1|   5| 34000|     Sales|\n",
            "+----+-------+---------+----+------+----------+\n",
            "\n"
          ]
        }
      ]
    },
    {
      "cell_type": "markdown",
      "source": [
        "#Sintaxis :\n",
        "\n",
        "###left : dataframe1.join(dataframe2,dataframe1.column_name == dataframe2.column_name,”left”)\n",
        "###Leftouter : dataframe1.join(dataframe2,dataframe1.column_name == dataframe2.column_name,”leftouter”)\n"
      ],
      "metadata": {
        "id": "fM6uK2DRATRT"
      }
    },
    {
      "cell_type": "code",
      "source": [
        "#left join\n",
        "\n",
        "dataframe.join(dataframe1,dataframe.ID == dataframe1.ID,\"left\").orderBy(dataframe.ID).show()"
      ],
      "metadata": {
        "colab": {
          "base_uri": "https://localhost:8080/"
        },
        "id": "5TBUkTU-Aa-1",
        "outputId": "f09640c1-f73b-4dd7-db72-c42d2f2f6c1b"
      },
      "execution_count": 83,
      "outputs": [
        {
          "output_type": "stream",
          "name": "stdout",
          "text": [
            "+---+-------+---------+----+------+----------+\n",
            "| ID|   NAME|  Company|  ID|salary|department|\n",
            "+---+-------+---------+----+------+----------+\n",
            "|  1| sravan|company 1|   1| 45000|        IT|\n",
            "|  2| ojaswi|company 1|   2|145000|   Manager|\n",
            "|  3| rohith|company 2|null|  null|      null|\n",
            "|  4|sridevi|company 1|null|  null|      null|\n",
            "|  5|  bobby|company 1|   5| 34000|     Sales|\n",
            "+---+-------+---------+----+------+----------+\n",
            "\n"
          ]
        }
      ]
    },
    {
      "cell_type": "code",
      "source": [
        "#leftouter join\n",
        "\n",
        "dataframe.join(dataframe1,dataframe.ID == dataframe1.ID,\"leftouter\").orderBy(dataframe.ID).show()"
      ],
      "metadata": {
        "colab": {
          "base_uri": "https://localhost:8080/"
        },
        "id": "-hmzrYFbBaXI",
        "outputId": "4d5ee2c1-ea9d-4e62-a0b3-6725660dcf70"
      },
      "execution_count": 84,
      "outputs": [
        {
          "output_type": "stream",
          "name": "stdout",
          "text": [
            "+---+-------+---------+----+------+----------+\n",
            "| ID|   NAME|  Company|  ID|salary|department|\n",
            "+---+-------+---------+----+------+----------+\n",
            "|  1| sravan|company 1|   1| 45000|        IT|\n",
            "|  2| ojaswi|company 1|   2|145000|   Manager|\n",
            "|  3| rohith|company 2|null|  null|      null|\n",
            "|  4|sridevi|company 1|null|  null|      null|\n",
            "|  5|  bobby|company 1|   5| 34000|     Sales|\n",
            "+---+-------+---------+----+------+----------+\n",
            "\n"
          ]
        }
      ]
    },
    {
      "cell_type": "markdown",
      "source": [
        "#Sintaxis de una función Lambda \n",
        "##lambda argumentos: expresión\n"
      ],
      "metadata": {
        "id": "DThxtv5GUfjz"
      }
    },
    {
      "cell_type": "code",
      "source": [
        "# Función Lambda para calcular el cuadrado de un número\n",
        "square = lambda x: x ** 2\n",
        "print(square(3)) # Resultado: 9\n",
        "\n",
        "# Funcion tradicional para calcular el cuadrado de un numero\n",
        "def square1(num):\n",
        "  return num ** 2\n",
        "print(square(5)) # Resultado: 25"
      ],
      "metadata": {
        "colab": {
          "base_uri": "https://localhost:8080/"
        },
        "id": "EwoKnILaQZDT",
        "outputId": "8205a824-aab5-4c3a-a26f-79e4689a52df"
      },
      "execution_count": 85,
      "outputs": [
        {
          "output_type": "stream",
          "name": "stdout",
          "text": [
            "9\n",
            "25\n"
          ]
        }
      ]
    },
    {
      "cell_type": "code",
      "source": [
        "def multiplicar_por (n):\n",
        "  return lambda x: x * n\n",
        "  \n",
        "duplicar = multiplicar_por(2)\n",
        "triplicar = multiplicar_por(3)\n",
        "diez_veces = multiplicar_por(10)\n",
        "\n",
        "print(duplicar(2))\n",
        "print(triplicar(2))\n",
        "print(diez_veces(2))"
      ],
      "metadata": {
        "colab": {
          "base_uri": "https://localhost:8080/"
        },
        "id": "bLu17102UFvr",
        "outputId": "6c5deb0a-af95-49e9-b54e-acdb2556c364"
      },
      "execution_count": 86,
      "outputs": [
        {
          "output_type": "stream",
          "name": "stdout",
          "text": [
            "4\n",
            "6\n",
            "20\n"
          ]
        }
      ]
    },
    {
      "cell_type": "code",
      "source": [
        "#obtención de numero impares en la lista\n",
        "filtrado = [x for x in [1, 2, 3, 4, 5, 6, 7, 8, 9, 10] if x % 2 != 0]\n",
        "\n",
        "print(filtrado)"
      ],
      "metadata": {
        "colab": {
          "base_uri": "https://localhost:8080/"
        },
        "id": "a9NObqWgXtPY",
        "outputId": "7d943efc-d80b-4c05-a315-0c30e3694d03"
      },
      "execution_count": 87,
      "outputs": [
        {
          "output_type": "stream",
          "name": "stdout",
          "text": [
            "[1, 3, 5, 7, 9]\n"
          ]
        }
      ]
    },
    {
      "cell_type": "code",
      "source": [
        "#mismo ejemplo usando filter\n",
        "mi_lista = [1, 2, 3, 4, 5, 6, 7, 8, 9, 10]\n",
        "\n",
        "filtrado = filter(lambda x: x % 2 != 0, mi_lista)\n",
        "\n",
        "list(filtrado)"
      ],
      "metadata": {
        "colab": {
          "base_uri": "https://localhost:8080/"
        },
        "id": "Bwb3Dn--ZxRE",
        "outputId": "2c0526b2-78d8-4865-a386-a50b98cc0a08"
      },
      "execution_count": 88,
      "outputs": [
        {
          "output_type": "execute_result",
          "data": {
            "text/plain": [
              "[1, 3, 5, 7, 9]"
            ]
          },
          "metadata": {},
          "execution_count": 88
        }
      ]
    }
  ]
}